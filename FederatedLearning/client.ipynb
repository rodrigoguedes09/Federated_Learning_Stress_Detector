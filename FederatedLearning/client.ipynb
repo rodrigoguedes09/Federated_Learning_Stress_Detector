{
 "cells": [
  {
   "cell_type": "code",
   "execution_count": 1,
   "metadata": {},
   "outputs": [],
   "source": [
    "import flwr as fl\n",
    "import tensorflow as tf\n",
    "from tensorflow.keras.models import Sequential\n",
    "from tensorflow.keras.layers import Dense\n",
    "from tensorflow.keras import Input\n",
    "from tensorflow.data import Dataset\n",
    "import numpy as np\n",
    "import os\n",
    "import itertools\n",
    "from tinydb import TinyDB, Query\n",
    "import time"
   ]
  },
  {
   "cell_type": "code",
   "execution_count": 2,
   "metadata": {},
   "outputs": [],
   "source": [
    "db = TinyDB('../Application/db.json')"
   ]
  },
  {
   "cell_type": "code",
   "execution_count": 3,
   "metadata": {},
   "outputs": [
    {
     "data": {
      "text/plain": [
       "{'number1': 0.87,\n",
       " 'number2': 0.12,\n",
       " 'result': 0.0,\n",
       " 'time': '2023-07-06T01:54:46.846648'}"
      ]
     },
     "execution_count": 3,
     "metadata": {},
     "output_type": "execute_result"
    }
   ],
   "source": [
    "db.all()[np.random.randint(0, len(db))]"
   ]
  },
  {
   "cell_type": "code",
   "execution_count": 4,
   "metadata": {},
   "outputs": [
    {
     "name": "stdout",
     "output_type": "stream",
     "text": [
      "Num GPUs Available:  0\n",
      "tf.Tensor(\n",
      "[[22. 28.]\n",
      " [49. 64.]], shape=(2, 2), dtype=float32)\n"
     ]
    }
   ],
   "source": [
    "print(\"Num GPUs Available: \", len(tf.config.list_physical_devices('GPU')))\n",
    "tf.debugging.set_log_device_placement(False)\n",
    "a = tf.constant([[1.0, 2.0, 3.0], [4.0, 5.0, 6.0]])\n",
    "b = tf.constant([[1.0, 2.0], [3.0, 4.0], [5.0, 6.0]])\n",
    "c = tf.matmul(a, b)\n",
    "\n",
    "print(c)"
   ]
  },
  {
   "cell_type": "code",
   "execution_count": 5,
   "metadata": {},
   "outputs": [],
   "source": [
    "#(x_train, y_train), (x_test, y_test) = tf.keras.datasets.cifar10.load_data()"
   ]
  },
  {
   "cell_type": "code",
   "execution_count": 6,
   "metadata": {},
   "outputs": [],
   "source": [
    "#model = tf.keras.applications.MobileNetV2((32, 32, 3), classes=10, weights=None)\n",
    "#model.compile(\"adam\", \"sparse_categorical_crossentropy\", metrics=[\"accuracy\"])"
   ]
  },
  {
   "cell_type": "code",
   "execution_count": 7,
   "metadata": {},
   "outputs": [
    {
     "name": "stdout",
     "output_type": "stream",
     "text": [
      "Model: \"sequential\"\n",
      "_________________________________________________________________\n",
      " Layer (type)                Output Shape              Param #   \n",
      "=================================================================\n",
      " dense (Dense)               (None, 5)                 15        \n",
      "                                                                 \n",
      " dense_1 (Dense)             (None, 1)                 6         \n",
      "                                                                 \n",
      "=================================================================\n",
      "Total params: 21 (84.00 Byte)\n",
      "Trainable params: 21 (84.00 Byte)\n",
      "Non-trainable params: 0 (0.00 Byte)\n",
      "_________________________________________________________________\n",
      "Epoch 1/4\n",
      "100/100 [==============================] - 3s 19ms/step - loss: 0.6711 - accuracy: 0.5850\n",
      "Epoch 2/4\n",
      "100/100 [==============================] - 2s 18ms/step - loss: 0.6488 - accuracy: 0.6017\n",
      "Epoch 3/4\n",
      "100/100 [==============================] - 2s 17ms/step - loss: 0.6313 - accuracy: 0.5957\n",
      "Epoch 4/4\n",
      "100/100 [==============================] - 2s 18ms/step - loss: 0.6201 - accuracy: 0.5700\n",
      "[[0.43]\n",
      " [0.42]\n",
      " [0.37]\n",
      " [0.35]]\n"
     ]
    }
   ],
   "source": [
    "def data_generator():\n",
    "    while(True):\n",
    "        \n",
    "        sample = db.all()[np.random.randint(0, len(db))]\n",
    "        # our input data is an array containing 2 numbers\n",
    "        X = [sample['number1'], sample['number2']]\n",
    "        # our label is 1 or 0\n",
    "        Y = 1 if sample['number2'] > sample['number1'] else 0\n",
    "        # our generator should return the input data and the label\n",
    "        yield X, [Y]\n",
    "        \n",
    "# create a dataset from our generator\n",
    "train_dataset = tf.data.Dataset.from_generator(\n",
    "    data_generator, \n",
    "    output_types = (tf.float32, tf.int32),\n",
    "    output_shapes=((2), (1))\n",
    ")\n",
    "train_dataset = train_dataset.batch(batch_size=30)\n",
    "\n",
    "model = Sequential([\n",
    "    Input(shape=(2)),\n",
    "    Dense(5, activation='relu'),\n",
    "    Dense(1, activation='sigmoid')\n",
    "])\n",
    "\n",
    "model.compile(optimizer='adam',\n",
    "              loss=tf.keras.losses.BinaryCrossentropy(),\n",
    "              metrics=['accuracy'])\n",
    "\n",
    "model.summary()\n",
    "\n",
    "model.fit(\n",
    "    train_dataset,\n",
    "    steps_per_epoch=100,\n",
    "    epochs=4\n",
    ")\n",
    "\n",
    "test_X = np.array([\n",
    "    [0.1, 0.2],\n",
    "    [0.3, 0.4],\n",
    "    [0.5, 0.1],\n",
    "    [0.7, 0.2]\n",
    "])\n",
    "\n",
    "test_Y = np.array([\n",
    "    [1],\n",
    "    [1],\n",
    "    [0],\n",
    "    [0]\n",
    "])\n",
    "\n",
    "\n",
    "\n",
    "Y = model.predict_on_batch(test_X)\n",
    "np.set_printoptions(formatter={'float': lambda x: \"{0:0.2f}\".format(x)})\n",
    "print(Y)"
   ]
  },
  {
   "cell_type": "code",
   "execution_count": 8,
   "metadata": {},
   "outputs": [],
   "source": [
    "def representative_dataset_gen():\n",
    "    for _ in range(10000):\n",
    "        yield [\n",
    "            np.array(\n",
    "                [np.random.uniform(), np.random.uniform()]\n",
    "            , dtype=np.float32)\n",
    "        ]"
   ]
  },
  {
   "cell_type": "code",
   "execution_count": 9,
   "metadata": {},
   "outputs": [],
   "source": [
    "class CifarClient(fl.client.NumPyClient):\n",
    "    def get_parameters(self, config):\n",
    "        return model.get_weights()\n",
    "\n",
    "    def fit(self, parameters, config):\n",
    "        model.set_weights(parameters)\n",
    "\n",
    "        print(\"executando fit\")\n",
    "        model.fit(\n",
    "            train_dataset,\n",
    "            steps_per_epoch=100,\n",
    "            epochs=4\n",
    "        )\n",
    "\n",
    "        return model.get_weights(), 2, {}\n",
    "\n",
    "    def evaluate(self, parameters, config):\n",
    "        model.set_weights(parameters)\n",
    "        \n",
    "        print(\"executando set\")\n",
    "        converter = tf.lite.TFLiteConverter.from_keras_model(model)\n",
    "        converter.optimizations = [tf.lite.Optimize.DEFAULT]\n",
    "        converter.representative_dataset = representative_dataset_gen\n",
    "        converter.target_spec.supported_ops = [tf.lite.OpsSet.TFLITE_BUILTINS_INT8]\n",
    "        tflite_model = converter.convert()\n",
    "        with open('model.tflite', 'wb') as f:\n",
    "            f.write(tflite_model)\n",
    "        \n",
    "        loss, accuracy = model.evaluate(test_X, test_Y)\n",
    "        time.sleep(60)\n",
    "        \n",
    "        return loss, len(test_X), {\"accuracy\": float(accuracy)}"
   ]
  },
  {
   "cell_type": "code",
   "execution_count": 10,
   "metadata": {},
   "outputs": [
    {
     "name": "stderr",
     "output_type": "stream",
     "text": [
      "INFO flwr 2023-07-06 03:09:53,629 | grpc.py:50 | Opened insecure gRPC connection (no certificates were passed)\n",
      "DEBUG flwr 2023-07-06 03:09:53,632 | connection.py:39 | ChannelConnectivity.IDLE\n",
      "DEBUG flwr 2023-07-06 03:09:53,634 | connection.py:39 | ChannelConnectivity.READY\n"
     ]
    },
    {
     "name": "stdout",
     "output_type": "stream",
     "text": [
      "executando fit\n",
      "Epoch 1/4\n",
      "100/100 [==============================] - 2s 22ms/step - loss: 0.5927 - accuracy: 0.6003\n",
      "Epoch 2/4\n",
      "100/100 [==============================] - 2s 22ms/step - loss: 0.5653 - accuracy: 0.6050\n",
      "Epoch 3/4\n",
      "100/100 [==============================] - 2s 20ms/step - loss: 0.5388 - accuracy: 0.6160\n",
      "Epoch 4/4\n",
      "100/100 [==============================] - 2s 22ms/step - loss: 0.5205 - accuracy: 0.6300\n",
      "executando set\n",
      "INFO:tensorflow:Assets written to: C:\\Users\\custo\\AppData\\Local\\Temp\\tmp_7onarw3\\assets\n"
     ]
    },
    {
     "name": "stderr",
     "output_type": "stream",
     "text": [
      "INFO:tensorflow:Assets written to: C:\\Users\\custo\\AppData\\Local\\Temp\\tmp_7onarw3\\assets\n",
      "c:\\Program Files\\Conda\\envs\\ubq2\\lib\\site-packages\\tensorflow\\lite\\python\\convert.py:887: UserWarning: Statistics for quantized inputs were expected, but not specified; continuing anyway.\n",
      "  warnings.warn(\n"
     ]
    },
    {
     "name": "stdout",
     "output_type": "stream",
     "text": [
      "1/1 [==============================] - 0s 193ms/step - loss: 0.5859 - accuracy: 0.5000\n",
      "executando fit\n",
      "Epoch 1/4\n",
      "100/100 [==============================] - 3s 26ms/step - loss: 0.5028 - accuracy: 0.8023\n",
      "Epoch 2/4\n",
      "100/100 [==============================] - 2s 20ms/step - loss: 0.4743 - accuracy: 0.7970\n",
      "Epoch 3/4\n",
      "100/100 [==============================] - 2s 21ms/step - loss: 0.4541 - accuracy: 0.8163\n",
      "Epoch 4/4\n",
      "100/100 [==============================] - 2s 22ms/step - loss: 0.4275 - accuracy: 0.8307\n",
      "executando set\n",
      "INFO:tensorflow:Assets written to: C:\\Users\\custo\\AppData\\Local\\Temp\\tmpruvrs2yq\\assets\n"
     ]
    },
    {
     "name": "stderr",
     "output_type": "stream",
     "text": [
      "INFO:tensorflow:Assets written to: C:\\Users\\custo\\AppData\\Local\\Temp\\tmpruvrs2yq\\assets\n",
      "c:\\Program Files\\Conda\\envs\\ubq2\\lib\\site-packages\\tensorflow\\lite\\python\\convert.py:887: UserWarning: Statistics for quantized inputs were expected, but not specified; continuing anyway.\n",
      "  warnings.warn(\n"
     ]
    },
    {
     "name": "stdout",
     "output_type": "stream",
     "text": [
      "1/1 [==============================] - 0s 36ms/step - loss: 0.5260 - accuracy: 0.5000\n",
      "executando fit\n",
      "Epoch 1/4\n",
      "100/100 [==============================] - 2s 23ms/step - loss: 0.4312 - accuracy: 0.8850\n",
      "Epoch 2/4\n",
      "100/100 [==============================] - 3s 25ms/step - loss: 0.4107 - accuracy: 0.8887\n",
      "Epoch 3/4\n",
      "100/100 [==============================] - 3s 26ms/step - loss: 0.3980 - accuracy: 0.8877\n",
      "Epoch 4/4\n",
      "100/100 [==============================] - 2s 25ms/step - loss: 0.3835 - accuracy: 0.8963\n",
      "executando set\n",
      "INFO:tensorflow:Assets written to: C:\\Users\\custo\\AppData\\Local\\Temp\\tmp74f8lqd_\\assets\n"
     ]
    },
    {
     "name": "stderr",
     "output_type": "stream",
     "text": [
      "INFO:tensorflow:Assets written to: C:\\Users\\custo\\AppData\\Local\\Temp\\tmp74f8lqd_\\assets\n",
      "c:\\Program Files\\Conda\\envs\\ubq2\\lib\\site-packages\\tensorflow\\lite\\python\\convert.py:887: UserWarning: Statistics for quantized inputs were expected, but not specified; continuing anyway.\n",
      "  warnings.warn(\n"
     ]
    },
    {
     "name": "stdout",
     "output_type": "stream",
     "text": [
      "1/1 [==============================] - 0s 25ms/step - loss: 0.4569 - accuracy: 0.5000\n"
     ]
    },
    {
     "name": "stderr",
     "output_type": "stream",
     "text": [
      "DEBUG flwr 2023-07-06 03:13:58,096 | connection.py:113 | gRPC channel closed\n",
      "DEBUG:flwr:gRPC channel closed\n",
      "INFO flwr 2023-07-06 03:13:58,097 | app.py:185 | Disconnect and shut down\n",
      "INFO:flwr:Disconnect and shut down\n"
     ]
    }
   ],
   "source": [
    "fl.client.start_numpy_client(server_address=\"localhost:8080\", client=CifarClient())"
   ]
  },
  {
   "cell_type": "code",
   "execution_count": null,
   "metadata": {},
   "outputs": [],
   "source": []
  }
 ],
 "metadata": {
  "kernelspec": {
   "display_name": "Python 3 (ipykernel)",
   "language": "python",
   "name": "python3"
  },
  "language_info": {
   "codemirror_mode": {
    "name": "ipython",
    "version": 3
   },
   "file_extension": ".py",
   "mimetype": "text/x-python",
   "name": "python",
   "nbconvert_exporter": "python",
   "pygments_lexer": "ipython3",
   "version": "3.9.16"
  }
 },
 "nbformat": 4,
 "nbformat_minor": 2
}
